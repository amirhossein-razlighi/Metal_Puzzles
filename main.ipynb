{
 "cells": [
  {
   "cell_type": "code",
   "execution_count": null,
   "metadata": {},
   "outputs": [],
   "source": [
    "import mlx.core as mx\n",
    "from utils import MetalKernel, MetalProblem\n",
    "\n",
    "def map_spec(a: mx.array):\n",
    "    return a + 10\n",
    "\n",
    "def map_test(a: mx.array):\n",
    "    source = \"\"\"\n",
    "        uint local_i = thread_position_in_grid.x;\n",
    "        out[local_i] = a[local_i] + 10;\n",
    "    \"\"\"\n",
    "\n",
    "    kernel = MetalKernel(\n",
    "        name=\"map\",\n",
    "        input_names=[\"a\"],\n",
    "        output_names=[\"out\"],\n",
    "        source=source,\n",
    "    )\n",
    "\n",
    "    return kernel\n",
    "\n",
    "SIZE = 4\n",
    "a = mx.arange(SIZE)\n",
    "output_shape = (SIZE,)\n",
    "\n",
    "problem = MetalProblem(\n",
    "    \"Map\",\n",
    "    map_test,\n",
    "    [a], \n",
    "    output_shape,\n",
    "    grid=(SIZE,1,1), \n",
    "    spec=map_spec\n",
    ")\n",
    "\n",
    "problem.show()\n",
    "problem.check()\n",
    "plt.show()"
   ]
  }
 ],
 "metadata": {
  "kernelspec": {
   "display_name": "temp",
   "language": "python",
   "name": "python3"
  },
  "language_info": {
   "name": "python",
   "version": "3.10.8"
  }
 },
 "nbformat": 4,
 "nbformat_minor": 2
}
